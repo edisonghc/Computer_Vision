{
 "cells": [
  {
   "cell_type": "code",
   "execution_count": 2,
   "metadata": {},
   "outputs": [
    {
     "ename": "SyntaxError",
     "evalue": "invalid syntax (<ipython-input-2-03bd00e35583>, line 8)",
     "output_type": "error",
     "traceback": [
      "\u001b[0;36m  File \u001b[0;32m\"<ipython-input-2-03bd00e35583>\"\u001b[0;36m, line \u001b[0;32m8\u001b[0m\n\u001b[0;31m    from scikit-image.color import rgb2gray\u001b[0m\n\u001b[0m               ^\u001b[0m\n\u001b[0;31mSyntaxError\u001b[0m\u001b[0;31m:\u001b[0m invalid syntax\n"
     ]
    }
   ],
   "source": [
    "#set up\n",
    "\n",
    "import matplotlib.pyplot as plt\n",
    "from matplotlib.image import imread\n",
    "import numpy as np\n",
    "import math\n",
    "import scipy.ndimage as ndi\n",
    "from scikit-image.color import rgb2gray\n",
    "from scikit-image import feature"
   ]
  },
  {
   "cell_type": "code",
   "execution_count": 3,
   "metadata": {},
   "outputs": [
    {
     "name": "stdout",
     "output_type": "stream",
     "text": [
      "Note: you may need to restart the kernel to use updated packages.\n"
     ]
    },
    {
     "name": "stderr",
     "output_type": "stream",
     "text": [
      " Shell commands are disabled in Juno.\n"
     ]
    }
   ],
   "source": [
    "pip install scikit-image"
   ]
  },
  {
   "cell_type": "code",
   "execution_count": null,
   "metadata": {},
   "outputs": [],
   "source": []
  },
  {
   "cell_type": "markdown",
   "metadata": {},
   "source": [
    "## Gaussian Smoothing"
   ]
  },
  {
   "cell_type": "code",
   "execution_count": null,
   "metadata": {},
   "outputs": [],
   "source": [
    "sigma = 8.0\n",
    "size = math.ceil(3*sigma)\n",
    "\n",
    "probs = [math.exp(-i*i/(2*sigma**2))/(math.sqrt(2*math.pi)*sigma) for i in range(-size,size+1)] \n",
    "kernel = np.outer(probs, probs)\n",
    "\n",
    "faceIm = np.double(imread('harry.png'))\n",
    "gIm = ndi.convolve(faceIm, kernel, mode='nearest')\n",
    "plt.imshow(gIm, cmap='gray')\n",
    "plt.imsave('gIm.bmp',np.uint8(gIm),cmap='gray')"
   ]
  },
  {
   "cell_type": "code",
   "execution_count": null,
   "metadata": {},
   "outputs": [],
   "source": [
    "def gaussDeriv2D(sigma):\n",
    "    size = math.ceil(3*sigma)\n",
    "    side = 2*size+1\n",
    "    Gx = np.zeros((side,side))\n",
    "    Gy = np.zeros((side,side))\n",
    "    for i,y in zip(range(0,side),range(-size,size+1)):\n",
    "        for j,x in zip(range(0,side),range(-size,size+1)):\n",
    "            Gx[i,j] = math.exp((-x*x-y*y)/(2*sigma**2))*x/(2*math.pi*sigma**4)\n",
    "            Gy[i,j] = math.exp((-x*x-y*y)/(2*sigma**2))*y/(2*math.pi*sigma**4)\n",
    "    \n",
    "    plt.imshow(Gx,cmap='gray')\n",
    "    #plt.colorbar()\n",
    "    plt.show()\n",
    "    \n",
    "    plt.imshow(Gy,cmap='gray')\n",
    "    #plt.colorbar()\n",
    "    plt.show()\n",
    "    \n",
    "    return Gx, Gy\n",
    "\n",
    "Gx, Gy = gaussDeriv2D(3)"
   ]
  },
  {
   "cell_type": "code",
   "execution_count": null,
   "metadata": {},
   "outputs": [],
   "source": [
    "me = rgb2gray(imread('me.jpg'))\n",
    "plt.imshow(me,cmap='gray')"
   ]
  },
  {
   "cell_type": "code",
   "execution_count": null,
   "metadata": {},
   "outputs": [],
   "source": [
    "gxIm = ndi.convolve(me, Gx, mode='nearest')\n",
    "gyIm = ndi.convolve(me, Gy, mode='nearest')\n",
    "magIm = (np.array(gxIm)**2+np.array(gyIm)**2)**0.5\n",
    "\n",
    "plt.imshow(gxIm, cmap='gray')\n",
    "plt.show()\n",
    "\n",
    "plt.imshow(gyIm, cmap='gray')\n",
    "plt.show()\n",
    "\n",
    "plt.imshow(magIm, cmap='gray')\n",
    "plt.show()"
   ]
  },
  {
   "cell_type": "code",
   "execution_count": null,
   "metadata": {},
   "outputs": [],
   "source": [
    "tIm = magIm > 0.01\n",
    "plt.imshow(tIm, cmap='gray')\n",
    "plt.show()"
   ]
  },
  {
   "cell_type": "code",
   "execution_count": null,
   "metadata": {
    "scrolled": true
   },
   "outputs": [],
   "source": [
    "fxIm = -ndi.sobel(me,axis=1,mode='nearest')\n",
    "fyIm = -ndi.sobel(me,axis=0,mode='nearest')\n",
    "magIm = (np.array(fxIm)**2+np.array(fyIm)**2)**0.5\n",
    "tIm = magIm > 0.1\n",
    "\n",
    "plt.imshow(fxIm, cmap='gray')\n",
    "plt.show()\n",
    "\n",
    "plt.imshow(fyIm, cmap='gray')\n",
    "plt.show()\n",
    "\n",
    "plt.imshow(magIm, cmap='gray')\n",
    "plt.show()\n",
    "\n",
    "plt.imshow(tIm, cmap='gray')\n",
    "plt.show()"
   ]
  },
  {
   "cell_type": "code",
   "execution_count": null,
   "metadata": {},
   "outputs": [],
   "source": [
    "edges = feature.canny(me, sigma=0.5)\n",
    "plt.imshow(edges,cmap='gray')\n",
    "plt.show()"
   ]
  }
 ],
 "metadata": {
  "kernelspec": {
   "display_name": "Python 3",
   "language": "python",
   "name": "python3"
  },
  "language_info": {
   "codemirror_mode": {
    "name": "ipython",
    "version": 3
   },
   "file_extension": ".py",
   "mimetype": "text/x-python",
   "name": "python",
   "nbconvert_exporter": "python",
   "pygments_lexer": "ipython3",
   "version": "3.6.6+"
  }
 },
 "nbformat": 4,
 "nbformat_minor": 2
}
